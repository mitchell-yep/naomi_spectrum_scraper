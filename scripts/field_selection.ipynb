{
 "cells": [
  {
   "cell_type": "markdown",
   "metadata": {},
   "source": [
    "To edit the output, change the parameters of interest above the line:\n",
    "Choose your parameters of interestest\n",
    "Indicator Options: 'population', 'prevalence', 'plhiv', 'art_coverage',\n",
    "'art_current_residents', 'art_current', 'untreated_plhiv_num',\n",
    "'aware_plhiv_prop', 'unaware_plhiv_num', 'aware_plhiv_num',\n",
    "'plhiv_attend','untreated_plhiv_attend', 'aware_plhiv_attend',\n",
    "'unaware_plhiv_attend', 'incidence', 'infections')\n",
    "\n",
    "Sex Options: 'both', 'male', 'female'\n",
    "\n",
    "Age Options: 'Y015_049', 'Y015_064', 'Y015_999',\n",
    "'Y050_999', 'Y000_999', 'Y000_064', 'Y000_014',\n",
    "'Y015_024', 'Y025_034', 'Y035_049',\n",
    "'Y050_064', 'Y065_999', 'Y010_019', 'Y025_049', 'Y000_004',\n",
    "'Y005_009', 'Y010_014')\n",
    "\n",
    "Period Options:'2022-4', '2023-3', '2024-3','2025-3'\n",
    "\n",
    "This is a slow operation due to the large amounts of data being processed. For 60 different URL combinations, it takes ~10-15 minutes\n",
    "Data collection is limited in that it does not collect values at the National level. This only provides granular SNU,SSNU, PSNU levels\n",
    "\n",
    "Notes: I refer to the geographic region underneath SNU as SSNU.\n",
    "Across most OUs: Level 3 filters on the Naomi tool correspond with PSNU regions\n"
   ]
  },
  {
   "cell_type": "code",
   "execution_count": null,
   "metadata": {},
   "outputs": [],
   "source": [
    "enter_indicator = ('plhiv', 'aware_plhiv_num', 'unaware_plhiv_num', 'aware_plhiv_prop')\n",
    "enter_sex = ('male', 'female', 'both')\n",
    "enter_age = ('Y015_049', 'Y000_014', 'Y015_024', 'Y025_029', 'Y010_014')\n",
    "enter_period = ('2022-4', '2022-3')\n"
   ]
  },
  {
   "cell_type": "code",
   "execution_count": 1,
   "metadata": {},
   "outputs": [
    {
     "ename": "ModuleNotFoundError",
     "evalue": "No module named 'requests'",
     "output_type": "error",
     "traceback": [
      "\u001b[1;31m---------------------------------------------------------------------------\u001b[0m",
      "\u001b[1;31mModuleNotFoundError\u001b[0m                       Traceback (most recent call last)",
      "\u001b[1;32mc:\\Users\\myep\\Documents\\Python Projects\\naomi_spectrum_scraper\\scripts\\field_selection.ipynb Cell 1\u001b[0m line \u001b[0;36m1\n\u001b[1;32m----> <a href='vscode-notebook-cell:/c%3A/Users/myep/Documents/Python%20Projects/naomi_spectrum_scraper/scripts/field_selection.ipynb#W3sZmlsZQ%3D%3D?line=0'>1</a>\u001b[0m \u001b[39mimport\u001b[39;00m \u001b[39mdata_collection\u001b[39;00m\u001b[39m.\u001b[39;00m\u001b[39mpy\u001b[39;00m\n",
      "File \u001b[1;32mc:\\Users\\myep\\Documents\\Python Projects\\naomi_spectrum_scraper\\scripts\\data_collection.py:2\u001b[0m\n\u001b[0;32m      1\u001b[0m \u001b[39m# Importing Python Modules To Help Run the Below Code\u001b[39;00m\n\u001b[1;32m----> 2\u001b[0m \u001b[39mimport\u001b[39;00m \u001b[39mrequests\u001b[39;00m\n\u001b[0;32m      3\u001b[0m \u001b[39mimport\u001b[39;00m \u001b[39mssl\u001b[39;00m\n\u001b[0;32m      4\u001b[0m \u001b[39mfrom\u001b[39;00m \u001b[39mrequests\u001b[39;00m\u001b[39m.\u001b[39;00m\u001b[39madapters\u001b[39;00m \u001b[39mimport\u001b[39;00m HTTPAdapter\n",
      "\u001b[1;31mModuleNotFoundError\u001b[0m: No module named 'requests'"
     ]
    }
   ],
   "source": [
    "import data_collection.py"
   ]
  }
 ],
 "metadata": {
  "kernelspec": {
   "display_name": "Python 3",
   "language": "python",
   "name": "python3"
  },
  "language_info": {
   "codemirror_mode": {
    "name": "ipython",
    "version": 3
   },
   "file_extension": ".py",
   "mimetype": "text/x-python",
   "name": "python",
   "nbconvert_exporter": "python",
   "pygments_lexer": "ipython3",
   "version": "0.0.0"
  }
 },
 "nbformat": 4,
 "nbformat_minor": 2
}
