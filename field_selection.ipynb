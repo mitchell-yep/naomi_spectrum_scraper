{
 "cells": [
  {
   "cell_type": "code",
   "execution_count": null,
   "metadata": {},
   "outputs": [],
   "source": []
  },
  {
   "cell_type": "markdown",
   "metadata": {},
   "source": [
    "# To edit the output, change the parameters of interest above the line:\n",
    "# Choose your parameters of interestest\n",
    "\n",
    "# Indicator Options: 'population', 'prevalence', 'plhiv', 'art_coverage',\n",
    "#                    'art_current_residents', 'art_current', 'untreated_plhiv_num',\n",
    "#                     'aware_plhiv_prop', 'unaware_plhiv_num', 'aware_plhiv_num',\n",
    "#                     'plhiv_attend','untreated_plhiv_attend', 'aware_plhiv_attend',\n",
    "#                     'unaware_plhiv_attend', 'incidence', 'infections')\n",
    "#       Sex Options: 'both', 'male', 'female'\n",
    "#       Age Options: 'Y015_049', 'Y015_064', 'Y015_999',\n",
    "#                      'Y050_999', 'Y000_999', 'Y000_064', 'Y000_014',\n",
    "#                      'Y015_024', 'Y025_034', 'Y035_049',\n",
    "#                      'Y050_064', 'Y065_999', 'Y010_019', 'Y025_049', 'Y000_004',\n",
    "#                      'Y005_009', 'Y010_014')\n",
    "#    Period Options:'2022-4', '2023-3', '2024-3','2025-3'\n",
    "#\n",
    "# This is a slow operation due to the large amounts of data being processed. For 60 different URL combinations, it takes ~10-15 minutes\n",
    "\n",
    "\n",
    "\n",
    "# Data collection is limited in that it does not collect values at the National level. This only provides granular SNU,SSNU, PSNU levels\n",
    "# I refer to the geographic region underneath SNU as SSNU.\n",
    "# Level 3 filters on the Naomi tool correspond with PSNU regions\n"
   ]
  },
  {
   "cell_type": "code",
   "execution_count": null,
   "metadata": {},
   "outputs": [],
   "source": [
    "enter_indicator = ('plhiv', 'aware_plhiv_num', 'unaware_plhiv_num', 'aware_plhiv_prop')\n",
    "enter_sex = ('male', 'female', 'both')\n",
    "enter_age = ('Y015_049', 'Y000_014', 'Y015_024', 'Y025_029', 'Y010_014')\n",
    "enter_period = ('2022-4', '2022-3')\n"
   ]
  }
 ],
 "metadata": {
  "language_info": {
   "name": "python"
  }
 },
 "nbformat": 4,
 "nbformat_minor": 2
}
